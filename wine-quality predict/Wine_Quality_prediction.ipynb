{
 "cells": [
  {
   "cell_type": "markdown",
   "id": "582d13df",
   "metadata": {},
   "source": [
    "# IMPORT AND CLEANING OF THE DATASET"
   ]
  },
  {
   "cell_type": "code",
   "execution_count": 1,
   "id": "94af0b56",
   "metadata": {},
   "outputs": [],
   "source": [
    "import pandas as pd \n",
    "from sklearn.model_selection import train_test_split \n",
    "from sklearn.linear_model import LinearRegression \n",
    "from sklearn import metrics \n",
    "import matplotlib.pyplot as plt \n",
    "import numpy as np \n",
    "import seaborn as sns"
   ]
  },
  {
   "cell_type": "code",
   "execution_count": 2,
   "id": "7aabe99e",
   "metadata": {},
   "outputs": [],
   "source": [
    "wine = pd.read_csv(\"winequality-red.csv\")"
   ]
  },
  {
   "cell_type": "code",
   "execution_count": 3,
   "id": "049092a0",
   "metadata": {},
   "outputs": [
    {
     "data": {
      "text/html": [
       "<div>\n",
       "<style scoped>\n",
       "    .dataframe tbody tr th:only-of-type {\n",
       "        vertical-align: middle;\n",
       "    }\n",
       "\n",
       "    .dataframe tbody tr th {\n",
       "        vertical-align: top;\n",
       "    }\n",
       "\n",
       "    .dataframe thead th {\n",
       "        text-align: right;\n",
       "    }\n",
       "</style>\n",
       "<table border=\"1\" class=\"dataframe\">\n",
       "  <thead>\n",
       "    <tr style=\"text-align: right;\">\n",
       "      <th></th>\n",
       "      <th>fixed acidity</th>\n",
       "      <th>volatile acidity</th>\n",
       "      <th>citric acid</th>\n",
       "      <th>residual sugar</th>\n",
       "      <th>chlorides</th>\n",
       "      <th>free sulfur dioxide</th>\n",
       "      <th>total sulfur dioxide</th>\n",
       "      <th>density</th>\n",
       "      <th>pH</th>\n",
       "      <th>sulphates</th>\n",
       "      <th>alcohol</th>\n",
       "      <th>quality</th>\n",
       "    </tr>\n",
       "  </thead>\n",
       "  <tbody>\n",
       "    <tr>\n",
       "      <th>0</th>\n",
       "      <td>7.4</td>\n",
       "      <td>0.70</td>\n",
       "      <td>0.00</td>\n",
       "      <td>1.9</td>\n",
       "      <td>0.076</td>\n",
       "      <td>11.0</td>\n",
       "      <td>34.0</td>\n",
       "      <td>0.9978</td>\n",
       "      <td>3.51</td>\n",
       "      <td>0.56</td>\n",
       "      <td>9.4</td>\n",
       "      <td>5</td>\n",
       "    </tr>\n",
       "    <tr>\n",
       "      <th>1</th>\n",
       "      <td>7.8</td>\n",
       "      <td>0.88</td>\n",
       "      <td>0.00</td>\n",
       "      <td>2.6</td>\n",
       "      <td>0.098</td>\n",
       "      <td>25.0</td>\n",
       "      <td>67.0</td>\n",
       "      <td>0.9968</td>\n",
       "      <td>3.20</td>\n",
       "      <td>0.68</td>\n",
       "      <td>9.8</td>\n",
       "      <td>5</td>\n",
       "    </tr>\n",
       "    <tr>\n",
       "      <th>2</th>\n",
       "      <td>7.8</td>\n",
       "      <td>0.76</td>\n",
       "      <td>0.04</td>\n",
       "      <td>2.3</td>\n",
       "      <td>0.092</td>\n",
       "      <td>15.0</td>\n",
       "      <td>54.0</td>\n",
       "      <td>0.9970</td>\n",
       "      <td>3.26</td>\n",
       "      <td>0.65</td>\n",
       "      <td>9.8</td>\n",
       "      <td>5</td>\n",
       "    </tr>\n",
       "    <tr>\n",
       "      <th>3</th>\n",
       "      <td>11.2</td>\n",
       "      <td>0.28</td>\n",
       "      <td>0.56</td>\n",
       "      <td>1.9</td>\n",
       "      <td>0.075</td>\n",
       "      <td>17.0</td>\n",
       "      <td>60.0</td>\n",
       "      <td>0.9980</td>\n",
       "      <td>3.16</td>\n",
       "      <td>0.58</td>\n",
       "      <td>9.8</td>\n",
       "      <td>6</td>\n",
       "    </tr>\n",
       "    <tr>\n",
       "      <th>4</th>\n",
       "      <td>7.4</td>\n",
       "      <td>0.70</td>\n",
       "      <td>0.00</td>\n",
       "      <td>1.9</td>\n",
       "      <td>0.076</td>\n",
       "      <td>11.0</td>\n",
       "      <td>34.0</td>\n",
       "      <td>0.9978</td>\n",
       "      <td>3.51</td>\n",
       "      <td>0.56</td>\n",
       "      <td>9.4</td>\n",
       "      <td>5</td>\n",
       "    </tr>\n",
       "  </tbody>\n",
       "</table>\n",
       "</div>"
      ],
      "text/plain": [
       "   fixed acidity  volatile acidity  citric acid  residual sugar  chlorides  \\\n",
       "0            7.4              0.70         0.00             1.9      0.076   \n",
       "1            7.8              0.88         0.00             2.6      0.098   \n",
       "2            7.8              0.76         0.04             2.3      0.092   \n",
       "3           11.2              0.28         0.56             1.9      0.075   \n",
       "4            7.4              0.70         0.00             1.9      0.076   \n",
       "\n",
       "   free sulfur dioxide  total sulfur dioxide  density    pH  sulphates  \\\n",
       "0                 11.0                  34.0   0.9978  3.51       0.56   \n",
       "1                 25.0                  67.0   0.9968  3.20       0.68   \n",
       "2                 15.0                  54.0   0.9970  3.26       0.65   \n",
       "3                 17.0                  60.0   0.9980  3.16       0.58   \n",
       "4                 11.0                  34.0   0.9978  3.51       0.56   \n",
       "\n",
       "   alcohol  quality  \n",
       "0      9.4        5  \n",
       "1      9.8        5  \n",
       "2      9.8        5  \n",
       "3      9.8        6  \n",
       "4      9.4        5  "
      ]
     },
     "execution_count": 3,
     "metadata": {},
     "output_type": "execute_result"
    }
   ],
   "source": [
    "wine.head()"
   ]
  },
  {
   "cell_type": "code",
   "execution_count": 4,
   "id": "4ca3635c",
   "metadata": {},
   "outputs": [
    {
     "data": {
      "text/plain": [
       "Index(['fixed acidity', 'volatile acidity', 'citric acid', 'residual sugar',\n",
       "       'chlorides', 'free sulfur dioxide', 'total sulfur dioxide', 'density',\n",
       "       'pH', 'sulphates', 'alcohol', 'quality'],\n",
       "      dtype='object')"
      ]
     },
     "execution_count": 4,
     "metadata": {},
     "output_type": "execute_result"
    }
   ],
   "source": [
    "wine.columns"
   ]
  },
  {
   "cell_type": "code",
   "execution_count": 5,
   "id": "c410ff41",
   "metadata": {},
   "outputs": [
    {
     "data": {
      "text/plain": [
       "(1599, 12)"
      ]
     },
     "execution_count": 5,
     "metadata": {},
     "output_type": "execute_result"
    }
   ],
   "source": [
    "wine.shape              #no. of rows and columns in dataset"
   ]
  },
  {
   "cell_type": "code",
   "execution_count": 6,
   "id": "78adab9a",
   "metadata": {},
   "outputs": [
    {
     "name": "stdout",
     "output_type": "stream",
     "text": [
      "No.of rows =  1599\n",
      "No.of columns =  12\n"
     ]
    }
   ],
   "source": [
    "print(\"No.of rows = \", wine.shape[0])\n",
    "print(\"No.of columns = \", wine.shape[1])"
   ]
  },
  {
   "cell_type": "code",
   "execution_count": null,
   "id": "847cb7c0",
   "metadata": {},
   "outputs": [],
   "source": []
  },
  {
   "cell_type": "markdown",
   "id": "069badc8",
   "metadata": {},
   "source": [
    "# Getting Info of dataset"
   ]
  },
  {
   "cell_type": "code",
   "execution_count": 7,
   "id": "294c7541",
   "metadata": {},
   "outputs": [
    {
     "name": "stdout",
     "output_type": "stream",
     "text": [
      "<class 'pandas.core.frame.DataFrame'>\n",
      "RangeIndex: 1599 entries, 0 to 1598\n",
      "Data columns (total 12 columns):\n",
      " #   Column                Non-Null Count  Dtype  \n",
      "---  ------                --------------  -----  \n",
      " 0   fixed acidity         1599 non-null   float64\n",
      " 1   volatile acidity      1599 non-null   float64\n",
      " 2   citric acid           1599 non-null   float64\n",
      " 3   residual sugar        1599 non-null   float64\n",
      " 4   chlorides             1599 non-null   float64\n",
      " 5   free sulfur dioxide   1599 non-null   float64\n",
      " 6   total sulfur dioxide  1599 non-null   float64\n",
      " 7   density               1599 non-null   float64\n",
      " 8   pH                    1599 non-null   float64\n",
      " 9   sulphates             1599 non-null   float64\n",
      " 10  alcohol               1599 non-null   float64\n",
      " 11  quality               1599 non-null   int64  \n",
      "dtypes: float64(11), int64(1)\n",
      "memory usage: 150.0 KB\n"
     ]
    }
   ],
   "source": [
    "wine.info()"
   ]
  },
  {
   "cell_type": "code",
   "execution_count": 8,
   "id": "2e486a49",
   "metadata": {},
   "outputs": [
    {
     "data": {
      "text/html": [
       "<div>\n",
       "<style scoped>\n",
       "    .dataframe tbody tr th:only-of-type {\n",
       "        vertical-align: middle;\n",
       "    }\n",
       "\n",
       "    .dataframe tbody tr th {\n",
       "        vertical-align: top;\n",
       "    }\n",
       "\n",
       "    .dataframe thead th {\n",
       "        text-align: right;\n",
       "    }\n",
       "</style>\n",
       "<table border=\"1\" class=\"dataframe\">\n",
       "  <thead>\n",
       "    <tr style=\"text-align: right;\">\n",
       "      <th></th>\n",
       "      <th>fixed acidity</th>\n",
       "      <th>volatile acidity</th>\n",
       "      <th>citric acid</th>\n",
       "      <th>residual sugar</th>\n",
       "      <th>chlorides</th>\n",
       "      <th>free sulfur dioxide</th>\n",
       "      <th>total sulfur dioxide</th>\n",
       "      <th>density</th>\n",
       "      <th>pH</th>\n",
       "      <th>sulphates</th>\n",
       "      <th>alcohol</th>\n",
       "      <th>quality</th>\n",
       "    </tr>\n",
       "  </thead>\n",
       "  <tbody>\n",
       "    <tr>\n",
       "      <th>count</th>\n",
       "      <td>1599.000000</td>\n",
       "      <td>1599.000000</td>\n",
       "      <td>1599.000000</td>\n",
       "      <td>1599.000000</td>\n",
       "      <td>1599.000000</td>\n",
       "      <td>1599.000000</td>\n",
       "      <td>1599.000000</td>\n",
       "      <td>1599.000000</td>\n",
       "      <td>1599.000000</td>\n",
       "      <td>1599.000000</td>\n",
       "      <td>1599.000000</td>\n",
       "      <td>1599.000000</td>\n",
       "    </tr>\n",
       "    <tr>\n",
       "      <th>mean</th>\n",
       "      <td>8.319637</td>\n",
       "      <td>0.527821</td>\n",
       "      <td>0.270976</td>\n",
       "      <td>2.538806</td>\n",
       "      <td>0.087467</td>\n",
       "      <td>15.874922</td>\n",
       "      <td>46.467792</td>\n",
       "      <td>0.996747</td>\n",
       "      <td>3.311113</td>\n",
       "      <td>0.658149</td>\n",
       "      <td>10.422983</td>\n",
       "      <td>5.636023</td>\n",
       "    </tr>\n",
       "    <tr>\n",
       "      <th>std</th>\n",
       "      <td>1.741096</td>\n",
       "      <td>0.179060</td>\n",
       "      <td>0.194801</td>\n",
       "      <td>1.409928</td>\n",
       "      <td>0.047065</td>\n",
       "      <td>10.460157</td>\n",
       "      <td>32.895324</td>\n",
       "      <td>0.001887</td>\n",
       "      <td>0.154386</td>\n",
       "      <td>0.169507</td>\n",
       "      <td>1.065668</td>\n",
       "      <td>0.807569</td>\n",
       "    </tr>\n",
       "    <tr>\n",
       "      <th>min</th>\n",
       "      <td>4.600000</td>\n",
       "      <td>0.120000</td>\n",
       "      <td>0.000000</td>\n",
       "      <td>0.900000</td>\n",
       "      <td>0.012000</td>\n",
       "      <td>1.000000</td>\n",
       "      <td>6.000000</td>\n",
       "      <td>0.990070</td>\n",
       "      <td>2.740000</td>\n",
       "      <td>0.330000</td>\n",
       "      <td>8.400000</td>\n",
       "      <td>3.000000</td>\n",
       "    </tr>\n",
       "    <tr>\n",
       "      <th>25%</th>\n",
       "      <td>7.100000</td>\n",
       "      <td>0.390000</td>\n",
       "      <td>0.090000</td>\n",
       "      <td>1.900000</td>\n",
       "      <td>0.070000</td>\n",
       "      <td>7.000000</td>\n",
       "      <td>22.000000</td>\n",
       "      <td>0.995600</td>\n",
       "      <td>3.210000</td>\n",
       "      <td>0.550000</td>\n",
       "      <td>9.500000</td>\n",
       "      <td>5.000000</td>\n",
       "    </tr>\n",
       "    <tr>\n",
       "      <th>50%</th>\n",
       "      <td>7.900000</td>\n",
       "      <td>0.520000</td>\n",
       "      <td>0.260000</td>\n",
       "      <td>2.200000</td>\n",
       "      <td>0.079000</td>\n",
       "      <td>14.000000</td>\n",
       "      <td>38.000000</td>\n",
       "      <td>0.996750</td>\n",
       "      <td>3.310000</td>\n",
       "      <td>0.620000</td>\n",
       "      <td>10.200000</td>\n",
       "      <td>6.000000</td>\n",
       "    </tr>\n",
       "    <tr>\n",
       "      <th>75%</th>\n",
       "      <td>9.200000</td>\n",
       "      <td>0.640000</td>\n",
       "      <td>0.420000</td>\n",
       "      <td>2.600000</td>\n",
       "      <td>0.090000</td>\n",
       "      <td>21.000000</td>\n",
       "      <td>62.000000</td>\n",
       "      <td>0.997835</td>\n",
       "      <td>3.400000</td>\n",
       "      <td>0.730000</td>\n",
       "      <td>11.100000</td>\n",
       "      <td>6.000000</td>\n",
       "    </tr>\n",
       "    <tr>\n",
       "      <th>max</th>\n",
       "      <td>15.900000</td>\n",
       "      <td>1.580000</td>\n",
       "      <td>1.000000</td>\n",
       "      <td>15.500000</td>\n",
       "      <td>0.611000</td>\n",
       "      <td>72.000000</td>\n",
       "      <td>289.000000</td>\n",
       "      <td>1.003690</td>\n",
       "      <td>4.010000</td>\n",
       "      <td>2.000000</td>\n",
       "      <td>14.900000</td>\n",
       "      <td>8.000000</td>\n",
       "    </tr>\n",
       "  </tbody>\n",
       "</table>\n",
       "</div>"
      ],
      "text/plain": [
       "       fixed acidity  volatile acidity  citric acid  residual sugar  \\\n",
       "count    1599.000000       1599.000000  1599.000000     1599.000000   \n",
       "mean        8.319637          0.527821     0.270976        2.538806   \n",
       "std         1.741096          0.179060     0.194801        1.409928   \n",
       "min         4.600000          0.120000     0.000000        0.900000   \n",
       "25%         7.100000          0.390000     0.090000        1.900000   \n",
       "50%         7.900000          0.520000     0.260000        2.200000   \n",
       "75%         9.200000          0.640000     0.420000        2.600000   \n",
       "max        15.900000          1.580000     1.000000       15.500000   \n",
       "\n",
       "         chlorides  free sulfur dioxide  total sulfur dioxide      density  \\\n",
       "count  1599.000000          1599.000000           1599.000000  1599.000000   \n",
       "mean      0.087467            15.874922             46.467792     0.996747   \n",
       "std       0.047065            10.460157             32.895324     0.001887   \n",
       "min       0.012000             1.000000              6.000000     0.990070   \n",
       "25%       0.070000             7.000000             22.000000     0.995600   \n",
       "50%       0.079000            14.000000             38.000000     0.996750   \n",
       "75%       0.090000            21.000000             62.000000     0.997835   \n",
       "max       0.611000            72.000000            289.000000     1.003690   \n",
       "\n",
       "                pH    sulphates      alcohol      quality  \n",
       "count  1599.000000  1599.000000  1599.000000  1599.000000  \n",
       "mean      3.311113     0.658149    10.422983     5.636023  \n",
       "std       0.154386     0.169507     1.065668     0.807569  \n",
       "min       2.740000     0.330000     8.400000     3.000000  \n",
       "25%       3.210000     0.550000     9.500000     5.000000  \n",
       "50%       3.310000     0.620000    10.200000     6.000000  \n",
       "75%       3.400000     0.730000    11.100000     6.000000  \n",
       "max       4.010000     2.000000    14.900000     8.000000  "
      ]
     },
     "execution_count": 8,
     "metadata": {},
     "output_type": "execute_result"
    }
   ],
   "source": [
    "wine.describe()"
   ]
  },
  {
   "cell_type": "code",
   "execution_count": 9,
   "id": "e361c6db",
   "metadata": {},
   "outputs": [
    {
     "data": {
      "text/plain": [
       "fixed acidity           0\n",
       "volatile acidity        0\n",
       "citric acid             0\n",
       "residual sugar          0\n",
       "chlorides               0\n",
       "free sulfur dioxide     0\n",
       "total sulfur dioxide    0\n",
       "density                 0\n",
       "pH                      0\n",
       "sulphates               0\n",
       "alcohol                 0\n",
       "quality                 0\n",
       "dtype: int64"
      ]
     },
     "execution_count": 9,
     "metadata": {},
     "output_type": "execute_result"
    }
   ],
   "source": [
    "wine.isnull().sum()           #checking the null values in dataset"
   ]
  },
  {
   "cell_type": "code",
   "execution_count": null,
   "id": "a04c7484",
   "metadata": {},
   "outputs": [],
   "source": []
  },
  {
   "cell_type": "markdown",
   "id": "f2411de0",
   "metadata": {},
   "source": [
    "# Bivariate Analysis of two variables\n"
   ]
  },
  {
   "cell_type": "code",
   "execution_count": 10,
   "id": "479a0729",
   "metadata": {},
   "outputs": [
    {
     "data": {
      "image/png": "[encoded data removed]",
      "text/plain": [
       "<Figure size 432x288 with 1 Axes>"
      ]
     },
     "metadata": {
      "needs_background": "light"
     },
     "output_type": "display_data"
    }
   ],
   "source": [
    "plt.bar(wine['quality'],wine['residual sugar'])\n",
    "plt.xlabel('Quality')\n",
    "plt.ylabel('Residual sugar')\n",
    "plt.show()"
   ]
  },
  {
   "cell_type": "markdown",
   "id": "d0c7a5a8",
   "metadata": {},
   "source": [
    "As the residual sugar increases the Quality of the Wine dectreases, we can check si,ilar for various variables"
   ]
  },
  {
   "cell_type": "code",
   "execution_count": 11,
   "id": "d865ac23",
   "metadata": {},
   "outputs": [],
   "source": [
    "import seaborn as sns"
   ]
  },
  {
   "cell_type": "code",
   "execution_count": 12,
   "id": "c59665c1",
   "metadata": {},
   "outputs": [
    {
     "data": {
      "text/plain": [
       "<AxesSubplot:>"
      ]
     },
     "execution_count": 12,
     "metadata": {},
     "output_type": "execute_result"
    },
    {
     "data": {
      "image/png": "[encoded data removed]",
      "text/plain": [
       "<Figure size 720x360 with 2 Axes>"
      ]
     },
     "metadata": {
      "needs_background": "light"
     },
     "output_type": "display_data"
    }
   ],
   "source": [
    "plt.figure(figsize=(10,5)) \n",
    "sns.heatmap(wine.corr(),annot=True,fmt='0.1')"
   ]
  },
  {
   "cell_type": "code",
   "execution_count": null,
   "id": "37e9fbc5",
   "metadata": {},
   "outputs": [],
   "source": []
  },
  {
   "cell_type": "markdown",
   "id": "54635f52",
   "metadata": {},
   "source": [
    "# Target Value Information"
   ]
  },
  {
   "cell_type": "code",
   "execution_count": 13,
   "id": "34b7cf9c",
   "metadata": {},
   "outputs": [
    {
     "data": {
      "text/plain": [
       "array([5, 6, 7, 4, 8, 3], dtype=int64)"
      ]
     },
     "execution_count": 13,
     "metadata": {},
     "output_type": "execute_result"
    }
   ],
   "source": [
    "wine['quality'].unique()"
   ]
  },
  {
   "cell_type": "markdown",
   "id": "51c5b47c",
   "metadata": {},
   "source": [
    "6 unique values in quality but will be distinguished on 0 and 1.....proceed"
   ]
  },
  {
   "cell_type": "code",
   "execution_count": 14,
   "id": "d5a8f0d4",
   "metadata": {},
   "outputs": [
    {
     "data": {
      "text/plain": [
       "<AxesSubplot:xlabel='quality', ylabel='count'>"
      ]
     },
     "execution_count": 14,
     "metadata": {},
     "output_type": "execute_result"
    },
    {
     "data": {
      "image/png": "[encoded data removed]",
      "text/plain": [
       "<Figure size 432x288 with 1 Axes>"
      ]
     },
     "metadata": {
      "needs_background": "light"
     },
     "output_type": "display_data"
    }
   ],
   "source": [
    "sns.countplot(x='quality', data=wine)"
   ]
  },
  {
   "cell_type": "code",
   "execution_count": null,
   "id": "cc730291",
   "metadata": {},
   "outputs": [],
   "source": []
  },
  {
   "cell_type": "code",
   "execution_count": null,
   "id": "7b08a016",
   "metadata": {},
   "outputs": [],
   "source": []
  },
  {
   "cell_type": "markdown",
   "id": "6412718c",
   "metadata": {},
   "source": [
    "# Seperating features and the target"
   ]
  },
  {
   "cell_type": "code",
   "execution_count": 15,
   "id": "1d550800",
   "metadata": {},
   "outputs": [],
   "source": [
    "X = wine.drop('quality',axis=1)\n",
    "Y = wine['quality']"
   ]
  },
  {
   "cell_type": "code",
   "execution_count": 16,
   "id": "9a35643e",
   "metadata": {},
   "outputs": [
    {
     "name": "stdout",
     "output_type": "stream",
     "text": [
      "      fixed acidity  volatile acidity  citric acid  residual sugar  chlorides  \\\n",
      "0               7.4             0.700         0.00             1.9      0.076   \n",
      "1               7.8             0.880         0.00             2.6      0.098   \n",
      "2               7.8             0.760         0.04             2.3      0.092   \n",
      "3              11.2             0.280         0.56             1.9      0.075   \n",
      "4               7.4             0.700         0.00             1.9      0.076   \n",
      "...             ...               ...          ...             ...        ...   \n",
      "1594            6.2             0.600         0.08             2.0      0.090   \n",
      "1595            5.9             0.550         0.10             2.2      0.062   \n",
      "1596            6.3             0.510         0.13             2.3      0.076   \n",
      "1597            5.9             0.645         0.12             2.0      0.075   \n",
      "1598            6.0             0.310         0.47             3.6      0.067   \n",
      "\n",
      "      free sulfur dioxide  total sulfur dioxide  density    pH  sulphates  \\\n",
      "0                    11.0                  34.0  0.99780  3.51       0.56   \n",
      "1                    25.0                  67.0  0.99680  3.20       0.68   \n",
      "2                    15.0                  54.0  0.99700  3.26       0.65   \n",
      "3                    17.0                  60.0  0.99800  3.16       0.58   \n",
      "4                    11.0                  34.0  0.99780  3.51       0.56   \n",
      "...                   ...                   ...      ...   ...        ...   \n",
      "1594                 32.0                  44.0  0.99490  3.45       0.58   \n",
      "1595                 39.0                  51.0  0.99512  3.52       0.76   \n",
      "1596                 29.0                  40.0  0.99574  3.42       0.75   \n",
      "1597                 32.0                  44.0  0.99547  3.57       0.71   \n",
      "1598                 18.0                  42.0  0.99549  3.39       0.66   \n",
      "\n",
      "      alcohol  \n",
      "0         9.4  \n",
      "1         9.8  \n",
      "2         9.8  \n",
      "3         9.8  \n",
      "4         9.4  \n",
      "...       ...  \n",
      "1594     10.5  \n",
      "1595     11.2  \n",
      "1596     11.0  \n",
      "1597     10.2  \n",
      "1598     11.0  \n",
      "\n",
      "[1599 rows x 11 columns]\n"
     ]
    }
   ],
   "source": [
    "print(X)"
   ]
  },
  {
   "cell_type": "code",
   "execution_count": 17,
   "id": "32502c7c",
   "metadata": {},
   "outputs": [
    {
     "name": "stdout",
     "output_type": "stream",
     "text": [
      "0       5\n",
      "1       5\n",
      "2       5\n",
      "3       6\n",
      "4       5\n",
      "       ..\n",
      "1594    5\n",
      "1595    6\n",
      "1596    6\n",
      "1597    5\n",
      "1598    6\n",
      "Name: quality, Length: 1599, dtype: int64\n"
     ]
    }
   ],
   "source": [
    "print(Y)"
   ]
  },
  {
   "cell_type": "code",
   "execution_count": null,
   "id": "e134d412",
   "metadata": {},
   "outputs": [],
   "source": []
  },
  {
   "cell_type": "markdown",
   "id": "779f6673",
   "metadata": {},
   "source": [
    "# Splitting the data into training data & test data"
   ]
  },
  {
   "cell_type": "code",
   "execution_count": 18,
   "id": "fa608d02",
   "metadata": {},
   "outputs": [],
   "source": [
    "X_train, X_test, Y_train, Y_test = train_test_split(X, Y, test_size=0.3, random_state=2) #80% as training data and 30% as test data"
   ]
  },
  {
   "cell_type": "code",
   "execution_count": 19,
   "id": "715a65da",
   "metadata": {},
   "outputs": [
    {
     "name": "stdout",
     "output_type": "stream",
     "text": [
      "(1599, 11) (1119, 11) (480, 11)\n"
     ]
    }
   ],
   "source": [
    "print(X.shape, X_train.shape, X_test.shape)"
   ]
  },
  {
   "cell_type": "code",
   "execution_count": 20,
   "id": "064e4a38",
   "metadata": {},
   "outputs": [
    {
     "data": {
      "text/plain": [
       "LinearRegression()"
      ]
     },
     "execution_count": 20,
     "metadata": {},
     "output_type": "execute_result"
    }
   ],
   "source": [
    "model= LinearRegression()\n",
    "model.fit(X_train,Y_train)"
   ]
  },
  {
   "cell_type": "code",
   "execution_count": 21,
   "id": "962a35d2",
   "metadata": {},
   "outputs": [
    {
     "data": {
      "text/plain": [
       "-0.5291005796560855"
      ]
     },
     "execution_count": 21,
     "metadata": {},
     "output_type": "execute_result"
    }
   ],
   "source": [
    "model.intercept_"
   ]
  },
  {
   "cell_type": "code",
   "execution_count": 22,
   "id": "a72cf71b",
   "metadata": {},
   "outputs": [
    {
     "data": {
      "text/plain": [
       "array([ 2.27881512e-03, -1.13491253e+00, -1.25447848e-01, -9.51555624e-03,\n",
       "       -1.55064598e+00,  3.88759865e-03, -2.76001832e-03,  4.75749402e+00,\n",
       "       -4.82285560e-01,  8.26131933e-01,  3.16832334e-01])"
      ]
     },
     "execution_count": 22,
     "metadata": {},
     "output_type": "execute_result"
    }
   ],
   "source": [
    "model.coef_"
   ]
  },
  {
   "cell_type": "code",
   "execution_count": 23,
   "id": "57b2966c",
   "metadata": {},
   "outputs": [
    {
     "data": {
      "text/plain": [
       "array([5.42449166, 5.9934626 , 6.05107539, ..., 5.73938217, 6.06608026,\n",
       "       6.5880721 ])"
      ]
     },
     "execution_count": 23,
     "metadata": {},
     "output_type": "execute_result"
    }
   ],
   "source": [
    "train_pred = model.predict(X_train)\n",
    "train_pred"
   ]
  },
  {
   "cell_type": "code",
   "execution_count": 24,
   "id": "bcc6f9ba",
   "metadata": {},
   "outputs": [
    {
     "data": {
      "text/plain": [
       "array([5.92810289, 6.2328046 , 5.44339858, 5.32932285, 5.19847171,\n",
       "       5.799938  , 5.09561833, 5.39601192, 5.54790919, 5.58881775,\n",
       "       5.99586309, 6.19516468, 5.25858609, 5.85083249, 5.18644381,\n",
       "       6.40745778, 5.85709434, 6.33248708, 5.65080799, 5.90047389,\n",
       "       5.5029038 , 5.60532191, 5.63280989, 6.88030325, 5.20938455,\n",
       "       6.37790176, 5.22481626, 6.36776516, 6.19908336, 5.48346924,\n",
       "       5.29507505, 5.77090619, 5.37899848, 6.53853346, 6.19851534,\n",
       "       5.3169022 , 5.81172572, 6.018211  , 5.83569283, 5.74940279,\n",
       "       5.61480478, 5.84639022, 5.72921623, 5.26768107, 5.36576249,\n",
       "       6.03144189, 5.67319418, 6.14689623, 5.78546594, 5.1983954 ,\n",
       "       5.09127442, 4.75971259, 5.29228136, 5.81199393, 5.33167182,\n",
       "       5.1157683 , 5.52017357, 5.29316054, 5.71996773, 5.77238242,\n",
       "       4.80373417, 5.2201203 , 5.76872391, 5.08232802, 5.78372894,\n",
       "       6.16096199, 6.2217833 , 6.41550491, 6.32516974, 5.96243679,\n",
       "       5.45743761, 5.41300292, 5.69730157, 5.23292737, 5.01824369,\n",
       "       6.1018776 , 5.76507532, 5.96100856, 6.18047086, 5.1450025 ,\n",
       "       5.31635883, 5.87692617, 5.80408249, 5.71945672, 6.63578072,\n",
       "       5.69053404, 5.44431869, 5.34618695, 5.41161627, 5.64332989,\n",
       "       6.34758225, 5.23312771, 5.31518472, 5.59280463, 5.31407051,\n",
       "       6.07871066, 5.12649889, 5.45270383, 5.34643404, 5.2168829 ,\n",
       "       5.72646911, 5.26653388, 5.30602654, 5.10226813, 5.84320845,\n",
       "       6.96431982, 5.78742264, 5.21177792, 5.7999633 , 5.95960161,\n",
       "       6.18701696, 5.54804287, 5.57217281, 5.45818646, 6.24353031,\n",
       "       6.13899005, 5.30755664, 6.05032442, 5.7036865 , 6.15542099,\n",
       "       5.45292973, 5.72559049, 5.78372894, 5.51516552, 6.49537355,\n",
       "       5.68257598, 7.40997782, 5.92969613, 5.61250423, 5.72074854,\n",
       "       6.20966018, 5.14507968, 6.4322199 , 5.57875707, 6.1727704 ,\n",
       "       4.88856779, 5.9967478 , 5.96100856, 5.41522724, 6.48103894,\n",
       "       6.26187588, 6.068121  , 5.80332591, 6.32026863, 5.37874947,\n",
       "       5.53347458, 5.84022683, 5.54598418, 5.80898936, 5.59427579,\n",
       "       5.01356361, 6.00037988, 5.73875414, 5.48056178, 6.04537435,\n",
       "       5.69046116, 6.40559281, 5.57895456, 5.31209576, 5.56003167,\n",
       "       5.14714609, 5.46081141, 5.31421475, 5.24507741, 5.66312716,\n",
       "       6.70991462, 6.47546173, 5.72232768, 4.7372589 , 5.04598481,\n",
       "       6.5689966 , 6.34657806, 6.96547222, 5.61310936, 5.97884906,\n",
       "       6.36776516, 5.07721929, 6.05279953, 4.99631737, 6.23669912,\n",
       "       4.78718168, 5.98769187, 5.11415938, 6.0137571 , 5.65120753,\n",
       "       5.32680608, 5.3664398 , 5.04549828, 5.97493553, 5.96978549,\n",
       "       5.32091048, 5.52017357, 5.26226268, 5.0537404 , 5.11554685,\n",
       "       5.59280575, 5.50376144, 5.04411822, 5.51582131, 6.544974  ,\n",
       "       5.40203527, 5.54591907, 5.09730837, 5.30086045, 4.94833304,\n",
       "       5.25266456, 6.06919541, 6.44686245, 6.25836601, 5.24234652,\n",
       "       6.74201798, 5.29297537, 5.556871  , 5.29598561, 6.39264477,\n",
       "       6.30594021, 6.02782055, 5.61889919, 5.62574398, 5.96940794,\n",
       "       4.59298104, 5.83871027, 5.1395497 , 6.13850913, 5.4058112 ,\n",
       "       5.4373315 , 4.93975632, 5.72412827, 5.37517841, 4.97492587,\n",
       "       5.61541609, 4.98735532, 4.95021532, 4.90050766, 5.7546937 ,\n",
       "       5.11974418, 5.33629589, 6.18830464, 5.55509365, 5.2676622 ,\n",
       "       6.48296406, 5.39434448, 5.36655986, 6.12068299, 6.0083457 ,\n",
       "       6.43352851, 4.95794744, 5.81070216, 5.22042826, 6.42050088,\n",
       "       5.39923141, 4.75971259, 5.40047546, 5.17876377, 6.40760957,\n",
       "       6.20966018, 5.00451706, 4.9726578 , 5.82489077, 5.76104439,\n",
       "       5.88402806, 5.4038501 , 4.64026497, 5.19910632, 5.68588488,\n",
       "       6.38150602, 5.20604215, 5.29950706, 5.4380407 , 6.11757601,\n",
       "       5.74114004, 5.7320768 , 5.08085082, 6.3157447 , 5.39598325,\n",
       "       5.13292252, 5.20587584, 5.14858334, 5.70691543, 5.26337838,\n",
       "       5.79533232, 5.57427573, 5.71286196, 5.90615839, 5.84048407,\n",
       "       5.14858334, 5.38585933, 6.2328046 , 6.24700401, 6.59545299,\n",
       "       6.48300445, 6.25789006, 5.03710693, 4.99397276, 5.39806284,\n",
       "       4.99444738, 6.83222599, 5.40026972, 5.03621487, 5.38080979,\n",
       "       6.18007108, 5.52778878, 5.82794406, 5.35126828, 6.18653888,\n",
       "       6.18859235, 5.80398254, 4.90356043, 4.96263133, 6.54304087,\n",
       "       5.34386423, 5.26324586, 6.22832322, 4.75774791, 5.02789079,\n",
       "       5.10790524, 5.05762997, 4.77558453, 5.48056178, 5.04411822,\n",
       "       5.46328286, 5.95439358, 6.32494779, 5.41316593, 5.40496963,\n",
       "       4.95574581, 5.40635601, 5.3063925 , 6.18414022, 6.01422766,\n",
       "       5.47829888, 5.75427968, 5.3887865 , 5.75731556, 5.10516028,\n",
       "       5.72646911, 5.97783021, 5.33663156, 5.06842283, 6.19248242,\n",
       "       6.16003033, 5.51516552, 5.5284382 , 5.76929306, 6.01269909,\n",
       "       6.50168947, 5.23234686, 6.48390205, 5.40517562, 5.92969613,\n",
       "       6.22989466, 5.74511792, 5.00074282, 5.97977528, 6.92923868,\n",
       "       6.07751139, 6.396819  , 5.85083249, 5.41267317, 5.53786083,\n",
       "       5.31869366, 5.53279624, 5.91943876, 5.56811339, 5.20790506,\n",
       "       5.73443738, 5.81070216, 5.03710693, 6.05923417, 5.51529253,\n",
       "       6.33627251, 5.44602051, 6.02118809, 5.41122818, 6.05068481,\n",
       "       5.37949455, 4.28593286, 5.41283536, 6.02392771, 5.39056855,\n",
       "       5.82582222, 5.22583099, 5.84874223, 6.30597899, 5.08281025,\n",
       "       6.53583721, 5.15021171, 5.8514239 , 6.75100842, 5.46439176,\n",
       "       5.22951878, 5.13292252, 6.88708551, 5.21292172, 5.42126594,\n",
       "       5.29144542, 4.89615582, 5.62050472, 6.29110983, 5.6033302 ,\n",
       "       5.68069719, 6.51141284, 5.33769201, 6.29642685, 5.15159632,\n",
       "       5.15740521, 5.34857178, 5.29213689, 5.51483163, 6.56918865,\n",
       "       5.55224402, 6.01126683, 5.42574584, 5.40880904, 5.16705144,\n",
       "       5.29316054, 5.22048177, 6.69671141, 6.56911478, 6.61731223,\n",
       "       4.94429261, 5.21620943, 5.77715382, 5.27629273, 5.29681562,\n",
       "       5.89885536, 5.80398254, 5.40635601, 5.34269167, 6.70416639,\n",
       "       6.11173273, 5.15714083, 5.96006999, 6.33584287, 4.95060705,\n",
       "       5.41261481, 5.2544285 , 5.36376659, 5.35816254, 5.4237649 ,\n",
       "       4.94340739, 5.40517562, 6.50991269, 5.71863905, 5.31209576,\n",
       "       5.48953317, 6.1780651 , 4.69727769, 5.21620943, 6.20315224,\n",
       "       5.71332734, 5.73848877, 4.28572378, 5.5838093 , 5.77045942,\n",
       "       4.85419377, 5.4807726 , 6.14108447, 5.3783928 , 5.81669476,\n",
       "       5.53052021, 5.6538283 , 6.55646092, 6.38801138, 6.29435298,\n",
       "       6.39264477, 6.07005893, 5.26653388, 5.48713447, 6.88708551,\n",
       "       5.9244402 , 5.00150384, 6.59904348, 6.28009223, 6.03949979,\n",
       "       6.04461618, 6.1380064 , 5.99418225, 5.23026993, 5.52003911])"
      ]
     },
     "execution_count": 24,
     "metadata": {},
     "output_type": "execute_result"
    }
   ],
   "source": [
    "test_pred = model.predict(X_test)\n",
    "test_pred"
   ]
  },
  {
   "cell_type": "code",
   "execution_count": null,
   "id": "6b093ebd",
   "metadata": {},
   "outputs": [],
   "source": []
  },
  {
   "cell_type": "markdown",
   "id": "7ca2da43",
   "metadata": {},
   "source": [
    "# Accuracy and Prediction"
   ]
  },
  {
   "cell_type": "code",
   "execution_count": 25,
   "id": "b0a3a7f8",
   "metadata": {},
   "outputs": [
    {
     "data": {
      "text/plain": [
       "0.647193352134527"
      ]
     },
     "execution_count": 25,
     "metadata": {},
     "output_type": "execute_result"
    }
   ],
   "source": [
    "train_rmse = metrics.mean_squared_error(train_pred, Y_train) ** 0.5\n",
    "train_rmse\n"
   ]
  },
  {
   "cell_type": "code",
   "execution_count": 26,
   "id": "f87ce1cc",
   "metadata": {},
   "outputs": [
    {
     "data": {
      "text/plain": [
       "0.6461103803671769"
      ]
     },
     "execution_count": 26,
     "metadata": {},
     "output_type": "execute_result"
    }
   ],
   "source": [
    "test_rmse = metrics.mean_squared_error(test_pred, Y_test) ** 0.5\n",
    "test_rmse"
   ]
  },
  {
   "cell_type": "code",
   "execution_count": 27,
   "id": "f11cdf05",
   "metadata": {},
   "outputs": [
    {
     "data": {
      "text/plain": [
       "array([6., 6., 5., 5., 5., 6., 5., 5., 6., 6., 6., 6., 5., 6., 5., 6., 6.,\n",
       "       6., 6., 6., 6., 6., 6., 7., 5., 6., 5., 6., 6., 5., 5., 6., 5., 7.,\n",
       "       6., 5., 6., 6., 6., 6., 6., 6., 6., 5., 5., 6., 6., 6., 6., 5., 5.,\n",
       "       5., 5., 6., 5., 5., 6., 5., 6., 6., 5., 5., 6., 5., 6., 6., 6., 6.,\n",
       "       6., 6., 5., 5., 6., 5., 5., 6., 6., 6., 6., 5., 5., 6., 6., 6., 7.,\n",
       "       6., 5., 5., 5., 6., 6., 5., 5., 6., 5., 6., 5., 5., 5., 5., 6., 5.,\n",
       "       5., 5., 6., 7., 6., 5., 6., 6., 6., 6., 6., 5., 6., 6., 5., 6., 6.,\n",
       "       6., 5., 6., 6., 6., 6., 6., 7., 6., 6., 6., 6., 5., 6., 6., 6., 5.,\n",
       "       6., 6., 5., 6., 6., 6., 6., 6., 5., 6., 6., 6., 6., 6., 5., 6., 6.,\n",
       "       5., 6., 6., 6., 6., 5., 6., 5., 5., 5., 5., 6., 7., 6., 6., 5., 5.,\n",
       "       7., 6., 7., 6., 6., 6., 5., 6., 5., 6., 5., 6., 5., 6., 6., 5., 5.,\n",
       "       5., 6., 6., 5., 6., 5., 5., 5., 6., 6., 5., 6., 7., 5., 6., 5., 5.,\n",
       "       5., 5., 6., 6., 6., 5., 7., 5., 6., 5., 6., 6., 6., 6., 6., 6., 5.,\n",
       "       6., 5., 6., 5., 5., 5., 6., 5., 5., 6., 5., 5., 5., 6., 5., 5., 6.,\n",
       "       6., 5., 6., 5., 5., 6., 6., 6., 5., 6., 5., 6., 5., 5., 5., 5., 6.,\n",
       "       6., 5., 5., 6., 6., 6., 5., 5., 5., 6., 6., 5., 5., 5., 6., 6., 6.,\n",
       "       5., 6., 5., 5., 5., 5., 6., 5., 6., 6., 6., 6., 6., 5., 5., 6., 6.,\n",
       "       7., 6., 6., 5., 5., 5., 5., 7., 5., 5., 5., 6., 6., 6., 5., 6., 6.,\n",
       "       6., 5., 5., 7., 5., 5., 6., 5., 5., 5., 5., 5., 5., 5., 5., 6., 6.,\n",
       "       5., 5., 5., 5., 5., 6., 6., 5., 6., 5., 6., 5., 6., 6., 5., 5., 6.,\n",
       "       6., 6., 6., 6., 6., 7., 5., 6., 5., 6., 6., 6., 5., 6., 7., 6., 6.,\n",
       "       6., 5., 6., 5., 6., 6., 6., 5., 6., 6., 5., 6., 6., 6., 5., 6., 5.,\n",
       "       6., 5., 4., 5., 6., 5., 6., 5., 6., 6., 5., 7., 5., 6., 7., 5., 5.,\n",
       "       5., 7., 5., 5., 5., 5., 6., 6., 6., 6., 7., 5., 6., 5., 5., 5., 5.,\n",
       "       6., 7., 6., 6., 5., 5., 5., 5., 5., 7., 7., 7., 5., 5., 6., 5., 5.,\n",
       "       6., 6., 5., 5., 7., 6., 5., 6., 6., 5., 5., 5., 5., 5., 5., 5., 5.,\n",
       "       7., 6., 5., 5., 6., 5., 5., 6., 6., 6., 4., 6., 6., 5., 5., 6., 5.,\n",
       "       6., 6., 6., 7., 6., 6., 6., 6., 5., 5., 7., 6., 5., 7., 6., 6., 6.,\n",
       "       6., 6., 5., 6.])"
      ]
     },
     "execution_count": 27,
     "metadata": {},
     "output_type": "execute_result"
    }
   ],
   "source": [
    "# rounding off the predicted values for test set\n",
    "predicted_data = np.round_(test_pred)\n",
    "predicted_data"
   ]
  },
  {
   "cell_type": "code",
   "execution_count": 28,
   "id": "7e2c29cc",
   "metadata": {},
   "outputs": [
    {
     "name": "stdout",
     "output_type": "stream",
     "text": [
      "Mean Absolute Error: 0.5129506522989471\n",
      "Mean Squared Error: 0.41745862361821806\n",
      "Root Mean Squared Error: 0.6461103803671769\n"
     ]
    }
   ],
   "source": [
    "print('Mean Absolute Error:', metrics.mean_absolute_error(Y_test, test_pred))\n",
    "print('Mean Squared Error:', metrics.mean_squared_error(Y_test, test_pred))\n",
    "rmse = np.sqrt(metrics.mean_squared_error(Y_test, test_pred))\n",
    "print('Root Mean Squared Error:',rmse)"
   ]
  },
  {
   "cell_type": "code",
   "execution_count": 29,
   "id": "2562ce30",
   "metadata": {},
   "outputs": [
    {
     "data": {
      "image/png": "[encoded data removed]",
      "text/plain": [
       "<Figure size 432x288 with 1 Axes>"
      ]
     },
     "metadata": {
      "needs_background": "light"
     },
     "output_type": "display_data"
    }
   ],
   "source": [
    "import matplotlib.pyplot as plt1\n",
    "ax=plt1.axes()\n",
    "color1= 'green'\n",
    "color2= 'blue'\n",
    "ax.arrow(0,0,1,0.56,head_width=0.00,head_length=0,fc=color2,ec=color2)\n",
    "ax.arrow(0,0,2,0.63,head_width=0.00,head_length=0.05,fc=color1,ec=color1,linestyle='--')\n",
    "ax.set_ylim([0,0.8])\n",
    "ax.set_xlim([0,4])\n",
    "plt.grid()\n",
    "plt.title('RMSE_Score')\n",
    "\n",
    "plt1.show()"
   ]
  },
  {
   "cell_type": "code",
   "execution_count": 30,
   "id": "9a5143bd",
   "metadata": {},
   "outputs": [
    {
     "data": {
      "image/png": "[encoded data removed]",
      "text/plain": [
       "<Figure size 432x288 with 1 Axes>"
      ]
     },
     "metadata": {
      "needs_background": "light"
     },
     "output_type": "display_data"
    }
   ],
   "source": [
    "import matplotlib.pyplot as plt1\n",
    "ax=plt1.axes()\n",
    "color1= 'green'\n",
    "color2= 'blue'\n",
    "ax.arrow(0,0,1,0.45,head_width=0.00,head_length=0,fc=color2,ec=color2)\n",
    "ax.arrow(0,0,2,0.49,head_width=0.00,head_length=0.05,fc=color1,ec=color1,linestyle='--')\n",
    "ax.set_ylim([0,0.6])\n",
    "ax.set_xlim([0,3])\n",
    "plt.grid()\n",
    "plt.title('MAE')\n",
    "\n",
    "plt1.show()"
   ]
  }
 ],
 "metadata": {
  "kernelspec": {
   "display_name": "Python 3 (ipykernel)",
   "language": "python",
   "name": "python3"
  },
  "language_info": {
   "codemirror_mode": {
    "name": "ipython",
    "version": 3
   },
   "file_extension": ".py",
   "mimetype": "text/x-python",
   "name": "python",
   "nbconvert_exporter": "python",
   "pygments_lexer": "ipython3",
   "version": "3.9.7"
  }
 },
 "nbformat": 4,
 "nbformat_minor": 5
}
